{
 "cells": [
  {
   "cell_type": "markdown",
   "metadata": {},
   "source": [
    "# Cite query"
   ]
  },
  {
   "cell_type": "markdown",
   "metadata": {},
   "source": [
    "The full citation algorithm will be executed below using the \"cite\" function where the query, its prefixes and the metadata (result set description and citation data) need to be plugged in. To generate a proper citation snippet for the dataset we ask for the most common metadata attributes from the literature (Theory and Practice of Data Citation, Silvello et al.). In result_set_description we ask for the description of the dataset as free text from the publisher. Latter, however, will be automatized in the future by inferring a description from the query. We wanted to make preparations for this challenge by defining an own attribute instead of integrating result_set_description in citation:data"
   ]
  },
  {
   "cell_type": "code",
   "execution_count": null,
   "metadata": {},
   "outputs": [],
   "source": [
    "citation_data = {\n",
    "    \"author\": \"Filip Kovacevic\",\n",
    "    \"publisher\": \"Filip Kovacevic\",\n",
    "}\n",
    "result_set_description = \"All documents where Judy Chu was mentioned with every mention listed\"\n",
    "citation_snippet = ct.cite(original_query, prefixes, result_set_description, citation_data)\n",
    "print(citation_snippet)"
   ]
  },
  {
   "cell_type": "code",
   "execution_count": null,
   "metadata": {},
   "outputs": [],
   "source": []
  },
  {
   "cell_type": "code",
   "execution_count": null,
   "metadata": {},
   "outputs": [],
   "source": []
  },
  {
   "cell_type": "code",
   "execution_count": null,
   "metadata": {},
   "outputs": [],
   "source": []
  },
  {
   "cell_type": "markdown",
   "metadata": {},
   "source": [
    "# Resolve PID and retrieving the data"
   ]
  },
  {
   "cell_type": "code",
   "execution_count": null,
   "metadata": {},
   "outputs": [],
   "source": [
    "# Retrieve the data set using the Query PID"
   ]
  },
  {
   "cell_type": "code",
   "execution_count": null,
   "metadata": {},
   "outputs": [],
   "source": []
  },
  {
   "cell_type": "code",
   "execution_count": null,
   "metadata": {},
   "outputs": [],
   "source": []
  },
  {
   "cell_type": "code",
   "execution_count": null,
   "metadata": {},
   "outputs": [],
   "source": []
  }
 ],
 "metadata": {
  "kernelspec": {
   "display_name": "Python 3",
   "language": "python",
   "name": "python3"
  },
  "language_info": {
   "codemirror_mode": {
    "name": "ipython",
    "version": 3
   },
   "file_extension": ".py",
   "mimetype": "text/x-python",
   "name": "python",
   "nbconvert_exporter": "python",
   "pygments_lexer": "ipython3",
   "version": "3.8.5"
  }
 },
 "nbformat": 4,
 "nbformat_minor": 4
}
