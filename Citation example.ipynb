{
 "cells": [
  {
   "cell_type": "code",
   "execution_count": 1,
   "metadata": {},
   "outputs": [],
   "source": [
    "import GraphDB.DataCitation as dc\n",
    "import queries_for_testing as q\n",
    "from datetime import datetime, timedelta, timezone"
   ]
  },
  {
   "cell_type": "code",
   "execution_count": 2,
   "metadata": {},
   "outputs": [],
   "source": [
    "citing = dc.DataVersioning('http://192.168.0.242:7200/repositories/DataCitation', #GET\n",
    "                           'http://192.168.0.242:7200/repositories/DataCitation/statements') #POST"
   ]
  },
  {
   "cell_type": "code",
   "execution_count": 3,
   "metadata": {},
   "outputs": [],
   "source": [
    "prefixes = {'citing': 'http://ontology.ontotext.com/citing/',\n",
    "            'pub': 'http://ontology.ontotext.com/taxonomy/',\n",
    "            'xsd': 'http://www.w3.org/2001/XMLSchema#',\n",
    "            'publishing': 'http://ontology.ontotext.com/publishing#'}\n",
    "\n",
    "query_for_citing = \"\"\"\n",
    "select * where {\n",
    "\n",
    "    ?document publishing:containsMention ?mention .\n",
    "    ?mention publishing:hasInstance ?person .\n",
    "    ?person pub:preferredLabel ?personLabel .\n",
    "    ?person pub:memberOfPoliticalParty ?party .\n",
    "    ?party pub:hasValue ?value .\n",
    "    ?value pub:preferredLabel \"Democratic Party\"@en .\n",
    "    filter(?personLabel = \"Judy Chu\"@en)\n",
    "}\n",
    "\"\"\""
   ]
  },
  {
   "cell_type": "code",
   "execution_count": 4,
   "metadata": {},
   "outputs": [
    {
     "data": {
      "text/html": [
       "<div>\n",
       "<style scoped>\n",
       "    .dataframe tbody tr th:only-of-type {\n",
       "        vertical-align: middle;\n",
       "    }\n",
       "\n",
       "    .dataframe tbody tr th {\n",
       "        vertical-align: top;\n",
       "    }\n",
       "\n",
       "    .dataframe thead th {\n",
       "        text-align: right;\n",
       "    }\n",
       "</style>\n",
       "<table border=\"1\" class=\"dataframe\">\n",
       "  <thead>\n",
       "    <tr style=\"text-align: right;\">\n",
       "      <th></th>\n",
       "      <th>value</th>\n",
       "      <th>person</th>\n",
       "      <th>document</th>\n",
       "      <th>party</th>\n",
       "      <th>mention</th>\n",
       "      <th>personLabel</th>\n",
       "    </tr>\n",
       "  </thead>\n",
       "  <tbody>\n",
       "    <tr>\n",
       "      <th>0</th>\n",
       "      <td>http://ontology.ontotext.com/resource/tsk5a9un...</td>\n",
       "      <td>http://ontology.ontotext.com/resource/tsm835hi...</td>\n",
       "      <td>http://www.reuters.com/article/2014/10/10/us-u...</td>\n",
       "      <td>http://ontology.ontotext.com/resource/Q460035S...</td>\n",
       "      <td>http://data.ontotext.com/publishing#Mention-db...</td>\n",
       "      <td>Judy Chu</td>\n",
       "    </tr>\n",
       "    <tr>\n",
       "      <th>1</th>\n",
       "      <td>http://ontology.ontotext.com/resource/tsk5a9un...</td>\n",
       "      <td>http://ontology.ontotext.com/resource/tsm835hi...</td>\n",
       "      <td>http://www.reuters.com/article/2014/10/10/us-u...</td>\n",
       "      <td>http://ontology.ontotext.com/resource/Q460035S...</td>\n",
       "      <td>http://data.ontotext.com/publishing#Mention-f5...</td>\n",
       "      <td>Judy Chu</td>\n",
       "    </tr>\n",
       "    <tr>\n",
       "      <th>2</th>\n",
       "      <td>http://ontology.ontotext.com/resource/tsk5a9un...</td>\n",
       "      <td>http://ontology.ontotext.com/resource/tsm835hi...</td>\n",
       "      <td>http://www.reuters.com/article/2014/10/10/us-u...</td>\n",
       "      <td>http://ontology.ontotext.com/resource/Q460035S...</td>\n",
       "      <td>http://data.ontotext.com/publishing#Mention-69...</td>\n",
       "      <td>Judy Chu</td>\n",
       "    </tr>\n",
       "    <tr>\n",
       "      <th>3</th>\n",
       "      <td>http://ontology.ontotext.com/resource/tsk5a9un...</td>\n",
       "      <td>http://ontology.ontotext.com/resource/tsm835hi...</td>\n",
       "      <td>http://www.reuters.com/article/2014/10/10/us-u...</td>\n",
       "      <td>http://ontology.ontotext.com/resource/Q460035S...</td>\n",
       "      <td>http://data.ontotext.com/publishing#Mention-1a...</td>\n",
       "      <td>Judy Chu</td>\n",
       "    </tr>\n",
       "  </tbody>\n",
       "</table>\n",
       "</div>"
      ],
      "text/plain": [
       "                                               value  \\\n",
       "0  http://ontology.ontotext.com/resource/tsk5a9un...   \n",
       "1  http://ontology.ontotext.com/resource/tsk5a9un...   \n",
       "2  http://ontology.ontotext.com/resource/tsk5a9un...   \n",
       "3  http://ontology.ontotext.com/resource/tsk5a9un...   \n",
       "\n",
       "                                              person  \\\n",
       "0  http://ontology.ontotext.com/resource/tsm835hi...   \n",
       "1  http://ontology.ontotext.com/resource/tsm835hi...   \n",
       "2  http://ontology.ontotext.com/resource/tsm835hi...   \n",
       "3  http://ontology.ontotext.com/resource/tsm835hi...   \n",
       "\n",
       "                                            document  \\\n",
       "0  http://www.reuters.com/article/2014/10/10/us-u...   \n",
       "1  http://www.reuters.com/article/2014/10/10/us-u...   \n",
       "2  http://www.reuters.com/article/2014/10/10/us-u...   \n",
       "3  http://www.reuters.com/article/2014/10/10/us-u...   \n",
       "\n",
       "                                               party  \\\n",
       "0  http://ontology.ontotext.com/resource/Q460035S...   \n",
       "1  http://ontology.ontotext.com/resource/Q460035S...   \n",
       "2  http://ontology.ontotext.com/resource/Q460035S...   \n",
       "3  http://ontology.ontotext.com/resource/Q460035S...   \n",
       "\n",
       "                                             mention personLabel  \n",
       "0  http://data.ontotext.com/publishing#Mention-db...    Judy Chu  \n",
       "1  http://data.ontotext.com/publishing#Mention-f5...    Judy Chu  \n",
       "2  http://data.ontotext.com/publishing#Mention-69...    Judy Chu  \n",
       "3  http://data.ontotext.com/publishing#Mention-1a...    Judy Chu  "
      ]
     },
     "execution_count": 4,
     "metadata": {},
     "output_type": "execute_result"
    }
   ],
   "source": [
    "vieTZObject = timezone(timedelta(hours=2))\n",
    "timestamp = datetime(2020, 9, 8, 12, 11, 21, 941000, vieTZObject)\n",
    "citing.get_data_at_timestamp(query_for_citing,timestamp, prefixes)\n"
   ]
  },
  {
   "cell_type": "code",
   "execution_count": null,
   "metadata": {},
   "outputs": [],
   "source": [
    "citing."
   ]
  }
 ],
 "metadata": {
  "kernelspec": {
   "display_name": "Python 3",
   "language": "python",
   "name": "python3"
  },
  "language_info": {
   "codemirror_mode": {
    "name": "ipython",
    "version": 3
   },
   "file_extension": ".py",
   "mimetype": "text/x-python",
   "name": "python",
   "nbconvert_exporter": "python",
   "pygments_lexer": "ipython3",
   "version": "3.8.5"
  }
 },
 "nbformat": 4,
 "nbformat_minor": 4
}
